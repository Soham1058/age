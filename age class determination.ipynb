{
  "nbformat": 4,
  "nbformat_minor": 0,
  "metadata": {
    "colab": {
      "provenance": [],
      "authorship_tag": "ABX9TyM6krnXQwH4TLya6La+95mR",
      "include_colab_link": true
    },
    "kernelspec": {
      "name": "python3",
      "display_name": "Python 3"
    },
    "language_info": {
      "name": "python"
    }
  },
  "cells": [
    {
      "cell_type": "markdown",
      "metadata": {
        "id": "view-in-github",
        "colab_type": "text"
      },
      "source": [
        "<a href=\"https://colab.research.google.com/github/Soham1058/age/blob/main/age%20class%20determination.ipynb\" target=\"_parent\"><img src=\"https://colab.research.google.com/assets/colab-badge.svg\" alt=\"Open In Colab\"/></a>"
      ]
    },
    {
      "cell_type": "code",
      "execution_count": 4,
      "metadata": {
        "colab": {
          "base_uri": "https://localhost:8080/"
        },
        "id": "Po23r8QRqoz7",
        "outputId": "fed34092-3e61-4490-ee20-27c38fd7a3b3"
      },
      "outputs": [
        {
          "output_type": "stream",
          "name": "stdout",
          "text": [
            "enter the age : 25\n",
            "you are an adult ....\n"
          ]
        }
      ],
      "source": [
        "age=int(input(\"enter the age : \" ))\n",
        "\n",
        "if age<18:\n",
        "  print(\"you are minor ....\")\n",
        "elif age>=18 and age<65:\n",
        "  print(\"you are an adult ....\")\n",
        "else:\n",
        "  print(\"you are a senior citizen...\")"
      ]
    }
  ]
}